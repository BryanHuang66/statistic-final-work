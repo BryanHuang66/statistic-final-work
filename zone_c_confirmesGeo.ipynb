{
 "cells": [
  {
   "attachments": {},
   "cell_type": "markdown",
   "metadata": {},
   "source": [
    "### Python高级作图(Plotly等库)"
   ]
  },
  {
   "cell_type": "code",
   "execution_count": 2,
   "metadata": {},
   "outputs": [],
   "source": [
    "import pandas as pd\n",
    "waveHeight = pd.read_csv('data/zone_c_confirmesGeo.csv')"
   ]
  },
  {
   "cell_type": "code",
   "execution_count": 3,
   "metadata": {},
   "outputs": [
    {
     "data": {
      "text/html": [
       "<div>\n",
       "<style scoped>\n",
       "    .dataframe tbody tr th:only-of-type {\n",
       "        vertical-align: middle;\n",
       "    }\n",
       "\n",
       "    .dataframe tbody tr th {\n",
       "        vertical-align: top;\n",
       "    }\n",
       "\n",
       "    .dataframe thead th {\n",
       "        text-align: right;\n",
       "    }\n",
       "</style>\n",
       "<table border=\"1\" class=\"dataframe\">\n",
       "  <thead>\n",
       "    <tr style=\"text-align: right;\">\n",
       "      <th></th>\n",
       "      <th>district</th>\n",
       "      <th>cas</th>\n",
       "      <th>lat</th>\n",
       "      <th>lon</th>\n",
       "    </tr>\n",
       "  </thead>\n",
       "  <tbody>\n",
       "    <tr>\n",
       "      <th>0</th>\n",
       "      <td>Louga</td>\n",
       "      <td>14</td>\n",
       "      <td>15.617326</td>\n",
       "      <td>-16.255818</td>\n",
       "    </tr>\n",
       "    <tr>\n",
       "      <th>1</th>\n",
       "      <td>Saint-Louis</td>\n",
       "      <td>139</td>\n",
       "      <td>16.020035</td>\n",
       "      <td>-16.493319</td>\n",
       "    </tr>\n",
       "    <tr>\n",
       "      <th>2</th>\n",
       "      <td>Ziguinchor</td>\n",
       "      <td>180</td>\n",
       "      <td>12.559898</td>\n",
       "      <td>-16.309203</td>\n",
       "    </tr>\n",
       "    <tr>\n",
       "      <th>3</th>\n",
       "      <td>Touba</td>\n",
       "      <td>208</td>\n",
       "      <td>14.867642</td>\n",
       "      <td>-15.917822</td>\n",
       "    </tr>\n",
       "    <tr>\n",
       "      <th>4</th>\n",
       "      <td>Mbour</td>\n",
       "      <td>116</td>\n",
       "      <td>14.416536</td>\n",
       "      <td>-16.987211</td>\n",
       "    </tr>\n",
       "    <tr>\n",
       "      <th>...</th>\n",
       "      <td>...</td>\n",
       "      <td>...</td>\n",
       "      <td>...</td>\n",
       "      <td>...</td>\n",
       "    </tr>\n",
       "    <tr>\n",
       "      <th>182</th>\n",
       "      <td>Salémata</td>\n",
       "      <td>1</td>\n",
       "      <td>12.634057</td>\n",
       "      <td>-12.824800</td>\n",
       "    </tr>\n",
       "    <tr>\n",
       "      <th>183</th>\n",
       "      <td>cité Douanes</td>\n",
       "      <td>2</td>\n",
       "      <td>14.700993</td>\n",
       "      <td>-17.445844</td>\n",
       "    </tr>\n",
       "    <tr>\n",
       "      <th>184</th>\n",
       "      <td>Sandaga</td>\n",
       "      <td>1</td>\n",
       "      <td>14.669138</td>\n",
       "      <td>-17.439348</td>\n",
       "    </tr>\n",
       "    <tr>\n",
       "      <th>185</th>\n",
       "      <td>Cité Aliou Sow</td>\n",
       "      <td>1</td>\n",
       "      <td>14.771800</td>\n",
       "      <td>-17.414875</td>\n",
       "    </tr>\n",
       "    <tr>\n",
       "      <th>186</th>\n",
       "      <td>Ourossogui</td>\n",
       "      <td>1</td>\n",
       "      <td>15.607268</td>\n",
       "      <td>-13.328905</td>\n",
       "    </tr>\n",
       "  </tbody>\n",
       "</table>\n",
       "<p>187 rows × 4 columns</p>\n",
       "</div>"
      ],
      "text/plain": [
       "           district  cas        lat        lon\n",
       "0             Louga   14  15.617326 -16.255818\n",
       "1       Saint-Louis  139  16.020035 -16.493319\n",
       "2        Ziguinchor  180  12.559898 -16.309203\n",
       "3             Touba  208  14.867642 -15.917822\n",
       "4             Mbour  116  14.416536 -16.987211\n",
       "..              ...  ...        ...        ...\n",
       "182        Salémata    1  12.634057 -12.824800\n",
       "183    cité Douanes    2  14.700993 -17.445844\n",
       "184         Sandaga    1  14.669138 -17.439348\n",
       "185  Cité Aliou Sow    1  14.771800 -17.414875\n",
       "186      Ourossogui    1  15.607268 -13.328905\n",
       "\n",
       "[187 rows x 4 columns]"
      ]
     },
     "execution_count": 3,
     "metadata": {},
     "output_type": "execute_result"
    }
   ],
   "source": [
    "waveHeight"
   ]
  },
  {
   "cell_type": "code",
   "execution_count": 5,
   "metadata": {},
   "outputs": [
    {
     "data": {
      "application/vnd.plotly.v1+json": {
       "config": {
        "plotlyServerURL": "https://plot.ly"
       },
       "data": [
        {
         "geo": "geo",
         "hovertemplate": "<b>%{hovertext}</b><br><br>cas=%{marker.color}<br>lat=%{lat}<br>lon=%{lon}<extra></extra>",
         "hovertext": [
          "Louga",
          "Saint-Louis",
          "Ziguinchor",
          "Touba",
          "Mbour",
          "Thiès",
          "Keur Massar",
          "Diamniadio",
          "Rufisque",
          "Pikine",
          "Thiaroye Gare",
          "Yeumbeul Sud",
          "Mbao",
          "Médina",
          "Geule Tapé",
          "Fass",
          "Colobane",
          "Plateau",
          "Golf Sud",
          "Wakhinane Nimzatt",
          "Ndiarème Limamoulaye",
          "Yoff",
          "Mermoz",
          "Parcelles Assainies",
          "Pikine Ouest",
          "Dieuppeul",
          "Derklé",
          "Hann Bel-Air",
          "Soprim",
          "Niary Tally",
          "Niayes-Thioker",
          "Mbacké",
          "Nioro",
          "Pout",
          "Tivaoune",
          "Guédiawaye",
          "Sangalkham",
          "Tambacounda",
          "Grand Médina",
          "Sédhiou",
          "Patte d'Oie",
          "Maristes",
          "Castor",
          "Darou Miname",
          "Vélingara",
          "Bene Tally",
          "Grand Yoff",
          "Yeumbeul",
          "LIBERTÉ 6",
          "Ouagou Niaye",
          "Liberté 3",
          "Amitié 2",
          "Dalifort",
          "Popenguine",
          "Linguère",
          "Grand Médina",
          "Faidherbe Dakar",
          "Sacré Cœur",
          "Hlm grand yoff",
          "Ouakam",
          "cité keur damel",
          "Cambérène",
          "Cité Bissap",
          "Almadies",
          "Ngor",
          "Libérte 4",
          "Avenue Lamine Barry",
          "Diamaguene",
          "Mamelles",
          "Mékhé",
          "Thiadiaye",
          "Scat Urbam",
          "Cité Apecsy",
          "Front de Terre",
          "Ouest Foire",
          "Cité Asecna",
          "Zone de captage",
          "Gibraltar",
          "Malika",
          "Nord Foire",
          "Sicape Amitié",
          "Koungheul",
          "Yarakh",
          "Jaxaay",
          "Reubeuss",
          "HLM",
          "Bignona",
          "Sacré Cœur 3",
          "Grand Dakar",
          "Bargny",
          "Diofior",
          "Matam",
          "Thilogne",
          "cité keur khadim",
          "Bounkiling",
          "Fann Hock",
          "Cité Biagui",
          "H.L.M 5",
          "Point E",
          "SICAP Baobab",
          "Diourbel",
          "Keur Mbaye Fall",
          "Richard Toll",
          "Kaolack",
          "Zone B",
          "HLM Grand Médine",
          "Zone A",
          "Bopp",
          "Liberté 4",
          "Cité SIPRES 2",
          "LIBERTÉ 2",
          "Cité Djily Mbaye",
          "Fatick",
          "Khombole",
          "Joal",
          "Cite SIPRES",
          "Cite Sonatel",
          "Oussouye",
          "LIBERTÉ 1",
          "Cité Marine",
          "Centenaire",
          "Fann",
          "Diouloulou",
          "Kolda",
          "Velingara",
          "Cité Comico",
          "Cité Keur Gorgui",
          "Guinguinéo",
          "Rebeuss",
          "Liberté 5",
          "Cité Gadaye",
          "Fass Delorme",
          "Cité Batrain",
          "Sicape Foire",
          "Cité CPI",
          "Cité Apix",
          "Diakhaye",
          "Thiaroye Azur",
          "Passy",
          "Cité Impôt et Domaines",
          "Kédougou",
          "Pompiers",
          "Birkilane",
          "Cité Fadia",
          "Avenue Lamine Gueye",
          "HLM 6",
          "Bambilor",
          "THIONCK-ESSYL",
          "Kaffrine",
          "KANEL",
          "Ndiakhirate",
          "Kébémer",
          "Amitié 1",
          "Ndofane",
          "COKI",
          "Tivaoune Peulh",
          "MALEM HODDAR",
          "Sokone",
          "Pété",
          "Hann Montagne",
          "Khar Yalla",
          "Sud Foire",
          "Wagane Diouf",
          "HLM 4",
          "Fann Résidence",
          "HLM 5",
          "Cité Port",
          "Saraya",
          "Cité Fayçal",
          "Sicap-Liberté",
          "Bambay",
          "Bourguiba",
          "Foundiougne",
          "Gossas",
          "Keur Ndiaye Lo",
          "Gorée",
          "Amitié 3",
          "Dagana",
          "Hamo 2",
          "DIAKHAO",
          "Diamalaye 2",
          "Cité Nouvelle Horizon",
          "Salémata",
          "cité Douanes",
          "Sandaga",
          "Cité Aliou Sow",
          "Ourossogui"
         ],
         "lat": [
          15.6173263,
          16.0200352,
          12.5598984,
          14.8676422,
          14.416536,
          14.7886451,
          14.7863883,
          14.7202301,
          14.7155603,
          14.7552617,
          14.7573391,
          14.7722048,
          14.7298517,
          14.682872,
          14.682904,
          14.6908265,
          14.6954393,
          14.660969,
          14.7753571,
          14.7869623,
          14.7720914,
          14.7460068,
          14.7074581,
          14.7598766,
          14.7563423,
          14.7209432,
          14.725885,
          14.705619,
          14.750303,
          14.7072737,
          14.6831562,
          14.7998188,
          13.7453334,
          14.7699723,
          14.95005,
          14.7687671,
          14.7789933,
          13.770897,
          14.7475649,
          12.704524,
          14.7494323,
          14.7275717,
          14.7245795,
          14.8545176,
          13.1458502,
          14.7135638,
          14.7369486,
          14.7722048,
          14.7292187,
          14.7065209,
          14.7163995,
          14.6927756,
          14.7399915,
          14.5544566,
          15.3976035,
          14.7475649,
          14.6752544,
          14.711702,
          14.7413678,
          14.7215918,
          14.7512487,
          14.7726743,
          14.7183798,
          14.7166822,
          14.7561453,
          14.7200883,
          14.6844898,
          14.7480806,
          14.7408533,
          15.113908,
          14.4204034,
          14.7366172,
          14.7589082,
          14.727446,
          14.7421946,
          14.7302382,
          14.7288036,
          14.6864038,
          14.7962013,
          14.7524516,
          14.7047952,
          13.9771107,
          14.7143482,
          14.7750689,
          14.6721468,
          14.7122843,
          12.80226,
          14.7213803,
          14.7030648,
          16.6968469,
          14.1897437,
          15.6540724,
          15.9647226,
          14.724413,
          13.0382787,
          14.6803199,
          14.7512692,
          14.7077206,
          14.6971856,
          14.7080887,
          14.6543384,
          14.7446933,
          16.4593388,
          14.157296,
          14.6984816,
          14.7593578,
          14.7049932,
          14.7022517,
          14.7200883,
          14.7309559,
          14.7131189,
          14.7606411,
          14.3344751,
          14.767014,
          14.1663137,
          14.7394276,
          14.7360513,
          12.4902659,
          14.7106437,
          14.7262278,
          14.7654215,
          14.689043,
          13.0482499,
          12.9057157,
          13.1458502,
          14.7881973,
          14.7117574,
          14.2693104,
          14.6721793,
          14.7241941,
          14.7916469,
          14.6898989,
          14.7150806,
          14.7151266,
          14.7319428,
          14.8097419,
          14.7555637,
          14.7437432,
          13.9861058,
          14.7485322,
          12.5578251,
          14.6731517,
          14.1309056,
          14.7616543,
          14.6715543,
          14.7036656,
          14.7996103,
          12.7855116,
          14.1048088,
          15.4892912,
          14.7674446,
          15.3705622,
          14.7052135,
          13.9184571,
          15.5050172,
          14.7902401,
          14.0884391,
          13.8793081,
          16.1049784,
          14.7330182,
          14.732102,
          14.7398766,
          14.671923,
          14.7109091,
          14.6953389,
          14.7077232,
          14.7006042,
          12.8352867,
          13.501882,
          14.7106437,
          14.6973316,
          14.7113906,
          14.1226027,
          14.4928765,
          14.7430545,
          14.6672935,
          14.7037294,
          16.5147487,
          14.7561147,
          14.4619282,
          14.756073,
          14.7828581,
          12.6340568,
          14.7009935,
          14.6691376,
          14.7718004,
          15.6072684
         ],
         "legendgroup": "",
         "lon": [
          -16.255818,
          -16.4933187,
          -16.3092032,
          -15.9178224,
          -16.9872109,
          -16.9622885,
          -17.3206958,
          -17.1848273,
          -17.2796838,
          -17.4044798,
          -17.3782683,
          -17.3668812,
          -17.3301944,
          -17.4545829,
          -17.4598697,
          -17.4570883,
          -17.4470818,
          -17.437154,
          -17.417768,
          -17.3788744,
          -17.3787904,
          -17.4951018,
          -17.4829161,
          -17.4505115,
          -17.4240377,
          -17.4555467,
          -17.4501812,
          -17.4374607,
          -17.4380298,
          -17.4539059,
          -17.4464822,
          -15.9241886,
          -15.7826688,
          -17.0708089,
          -16.8235338,
          -17.4184561,
          -17,
          -13.6778869,
          -17.4487115,
          -15.5773475,
          -17.4476755,
          -17.4389359,
          -17.4532336,
          -15.9076447,
          -14.1191911,
          -17.4491848,
          -17.464522,
          -17.3668812,
          -17.4713537,
          -17.449635,
          -17.4558524,
          -17.4652439,
          -17.4157012,
          -17.1174502,
          -15.1225091,
          -17.4509002,
          -17.4391267,
          -17.4827601,
          -17.4567257,
          -17.5014482,
          -17.4557774,
          -17.4337794,
          -17.45134,
          -17.4698748,
          -17.5231938,
          -17.4613967,
          -17.4508372,
          -17.3642044,
          -17.5387548,
          -16.6425483,
          -16.7085315,
          -17.462899,
          -17.4727401,
          -17.4516118,
          -17.479928,
          -17.4916828,
          -17.4439233,
          -17.44771,
          -17.3461378,
          -17.4626603,
          -17.4676207,
          -14.8092699,
          -17.4451646,
          -17.2889883,
          -17.4482474,
          -17.4531625,
          -16.2396067,
          -17.4776552,
          -17.4638227,
          -17.2399073,
          -16.6684587,
          -13.2637168,
          -13.597126,
          -17.4543173,
          -15.7074881,
          -17.467005,
          -17.4944317,
          -17.4454415,
          -17.4653082,
          -17.4656161,
          -16.252534,
          -17.3185636,
          -15.7089044,
          -16.0873319,
          -17.4564102,
          -17.4505693,
          -17.455205,
          -17.4500537,
          -17.4613967,
          -17.4751041,
          -17.4636917,
          -17.4593616,
          -16.4178872,
          -16.6961308,
          -16.8613177,
          -17.2890408,
          -17.469748,
          -16.548543,
          -17.4632647,
          -17.4540655,
          -17.4260224,
          -17.4775037,
          -16.6096974,
          -15.0170787,
          -14.1191911,
          -17.372539,
          -17.4698625,
          -15.96262,
          -17.448307,
          -17.4619961,
          -17.3641579,
          -17.4581687,
          -17.4800312,
          -17.4953521,
          -17.4931006,
          -17.2914415,
          -17.2881536,
          -17.3609376,
          -16.2678875,
          -17.4411017,
          -12.2004682,
          -17.4322371,
          -15.7484705,
          -17.424394,
          -17.4395775,
          -17.445731,
          -17.1923658,
          -16.5182771,
          -15.5624213,
          -13.1851386,
          -17.219366,
          -16.4620687,
          -17.4636649,
          -15.9313345,
          -16.0004952,
          -17.2451863,
          -15.3121696,
          -16.3790811,
          -13.9526582,
          -17.4197667,
          -17.4560409,
          -17.4687646,
          -17.4363216,
          -17.4452484,
          -17.4690027,
          -17.4454415,
          -17.4475121,
          -11.7606497,
          2.1309613,
          -17.4632647,
          -16.4745785,
          -17.4577139,
          -16.4739347,
          -16.0760844,
          -17.2538201,
          -17.4008531,
          -17.4766021,
          -15.5214287,
          -17.4279012,
          -16.2995408,
          -17.4641497,
          -17.2333305,
          -12.8248001,
          -17.4458438,
          -17.4393477,
          -17.414875,
          -13.3289052
         ],
         "marker": {
          "color": [
           14,
           139,
           180,
           208,
           116,
           251,
           98,
           20,
           109,
           86,
           4,
           5,
           152,
           54,
           9,
           11,
           13,
           135,
           5,
           1,
           1,
           55,
           47,
           108,
           2,
           23,
           10,
           12,
           5,
           14,
           1,
           12,
           16,
           29,
           90,
           40,
           24,
           20,
           5,
           10,
           19,
           103,
           9,
           1,
           13,
           8,
           39,
           35,
           69,
           8,
           4,
           3,
           9,
           39,
           1,
           1,
           1,
           36,
           20,
           74,
           4,
           15,
           1,
           41,
           30,
           1,
           1,
           10,
           26,
           19,
           11,
           12,
           1,
           3,
           47,
           1,
           9,
           12,
           5,
           27,
           5,
           2,
           9,
           2,
           1,
           23,
           71,
           5,
           18,
           5,
           4,
           13,
           2,
           1,
           19,
           5,
           2,
           1,
           14,
           10,
           39,
           5,
           47,
           107,
           3,
           8,
           4,
           5,
           8,
           3,
           6,
           5,
           20,
           34,
           23,
           2,
           4,
           17,
           15,
           1,
           4,
           15,
           3,
           21,
           4,
           1,
           9,
           7,
           1,
           12,
           1,
           3,
           1,
           10,
           1,
           1,
           1,
           1,
           7,
           1,
           83,
           1,
           2,
           5,
           1,
           3,
           1,
           2,
           4,
           2,
           1,
           2,
           3,
           5,
           1,
           1,
           2,
           9,
           2,
           1,
           2,
           3,
           2,
           1,
           6,
           4,
           4,
           19,
           1,
           4,
           3,
           2,
           1,
           1,
           2,
           1,
           1,
           1,
           1,
           1,
           3,
           1,
           1,
           2,
           1,
           1,
           1
          ],
          "coloraxis": "coloraxis",
          "size": [
           14,
           139,
           180,
           208,
           116,
           251,
           98,
           20,
           109,
           86,
           4,
           5,
           152,
           54,
           9,
           11,
           13,
           135,
           5,
           1,
           1,
           55,
           47,
           108,
           2,
           23,
           10,
           12,
           5,
           14,
           1,
           12,
           16,
           29,
           90,
           40,
           24,
           20,
           5,
           10,
           19,
           103,
           9,
           1,
           13,
           8,
           39,
           35,
           69,
           8,
           4,
           3,
           9,
           39,
           1,
           1,
           1,
           36,
           20,
           74,
           4,
           15,
           1,
           41,
           30,
           1,
           1,
           10,
           26,
           19,
           11,
           12,
           1,
           3,
           47,
           1,
           9,
           12,
           5,
           27,
           5,
           2,
           9,
           2,
           1,
           23,
           71,
           5,
           18,
           5,
           4,
           13,
           2,
           1,
           19,
           5,
           2,
           1,
           14,
           10,
           39,
           5,
           47,
           107,
           3,
           8,
           4,
           5,
           8,
           3,
           6,
           5,
           20,
           34,
           23,
           2,
           4,
           17,
           15,
           1,
           4,
           15,
           3,
           21,
           4,
           1,
           9,
           7,
           1,
           12,
           1,
           3,
           1,
           10,
           1,
           1,
           1,
           1,
           7,
           1,
           83,
           1,
           2,
           5,
           1,
           3,
           1,
           2,
           4,
           2,
           1,
           2,
           3,
           5,
           1,
           1,
           2,
           9,
           2,
           1,
           2,
           3,
           2,
           1,
           6,
           4,
           4,
           19,
           1,
           4,
           3,
           2,
           1,
           1,
           2,
           1,
           1,
           1,
           1,
           1,
           3,
           1,
           1,
           2,
           1,
           1,
           1
          ],
          "sizemode": "area",
          "sizeref": 0.2788888888888889,
          "symbol": "circle"
         },
         "mode": "markers",
         "name": "",
         "showlegend": false,
         "type": "scattergeo"
        }
       ],
       "layout": {
        "coloraxis": {
         "colorbar": {
          "title": {
           "text": "cas"
          }
         },
         "colorscale": [
          [
           0,
           "#0d0887"
          ],
          [
           0.1111111111111111,
           "#46039f"
          ],
          [
           0.2222222222222222,
           "#7201a8"
          ],
          [
           0.3333333333333333,
           "#9c179e"
          ],
          [
           0.4444444444444444,
           "#bd3786"
          ],
          [
           0.5555555555555556,
           "#d8576b"
          ],
          [
           0.6666666666666666,
           "#ed7953"
          ],
          [
           0.7777777777777778,
           "#fb9f3a"
          ],
          [
           0.8888888888888888,
           "#fdca26"
          ],
          [
           1,
           "#f0f921"
          ]
         ]
        },
        "geo": {
         "center": {},
         "domain": {
          "x": [
           0,
           1
          ],
          "y": [
           0,
           1
          ]
         },
         "projection": {
          "type": "natural earth"
         },
         "scope": "africa"
        },
        "legend": {
         "itemsizing": "constant",
         "tracegroupgap": 0
        },
        "margin": {
         "t": 60
        },
        "template": {
         "data": {
          "bar": [
           {
            "error_x": {
             "color": "#2a3f5f"
            },
            "error_y": {
             "color": "#2a3f5f"
            },
            "marker": {
             "line": {
              "color": "#E5ECF6",
              "width": 0.5
             },
             "pattern": {
              "fillmode": "overlay",
              "size": 10,
              "solidity": 0.2
             }
            },
            "type": "bar"
           }
          ],
          "barpolar": [
           {
            "marker": {
             "line": {
              "color": "#E5ECF6",
              "width": 0.5
             },
             "pattern": {
              "fillmode": "overlay",
              "size": 10,
              "solidity": 0.2
             }
            },
            "type": "barpolar"
           }
          ],
          "carpet": [
           {
            "aaxis": {
             "endlinecolor": "#2a3f5f",
             "gridcolor": "white",
             "linecolor": "white",
             "minorgridcolor": "white",
             "startlinecolor": "#2a3f5f"
            },
            "baxis": {
             "endlinecolor": "#2a3f5f",
             "gridcolor": "white",
             "linecolor": "white",
             "minorgridcolor": "white",
             "startlinecolor": "#2a3f5f"
            },
            "type": "carpet"
           }
          ],
          "choropleth": [
           {
            "colorbar": {
             "outlinewidth": 0,
             "ticks": ""
            },
            "type": "choropleth"
           }
          ],
          "contour": [
           {
            "colorbar": {
             "outlinewidth": 0,
             "ticks": ""
            },
            "colorscale": [
             [
              0,
              "#0d0887"
             ],
             [
              0.1111111111111111,
              "#46039f"
             ],
             [
              0.2222222222222222,
              "#7201a8"
             ],
             [
              0.3333333333333333,
              "#9c179e"
             ],
             [
              0.4444444444444444,
              "#bd3786"
             ],
             [
              0.5555555555555556,
              "#d8576b"
             ],
             [
              0.6666666666666666,
              "#ed7953"
             ],
             [
              0.7777777777777778,
              "#fb9f3a"
             ],
             [
              0.8888888888888888,
              "#fdca26"
             ],
             [
              1,
              "#f0f921"
             ]
            ],
            "type": "contour"
           }
          ],
          "contourcarpet": [
           {
            "colorbar": {
             "outlinewidth": 0,
             "ticks": ""
            },
            "type": "contourcarpet"
           }
          ],
          "heatmap": [
           {
            "colorbar": {
             "outlinewidth": 0,
             "ticks": ""
            },
            "colorscale": [
             [
              0,
              "#0d0887"
             ],
             [
              0.1111111111111111,
              "#46039f"
             ],
             [
              0.2222222222222222,
              "#7201a8"
             ],
             [
              0.3333333333333333,
              "#9c179e"
             ],
             [
              0.4444444444444444,
              "#bd3786"
             ],
             [
              0.5555555555555556,
              "#d8576b"
             ],
             [
              0.6666666666666666,
              "#ed7953"
             ],
             [
              0.7777777777777778,
              "#fb9f3a"
             ],
             [
              0.8888888888888888,
              "#fdca26"
             ],
             [
              1,
              "#f0f921"
             ]
            ],
            "type": "heatmap"
           }
          ],
          "heatmapgl": [
           {
            "colorbar": {
             "outlinewidth": 0,
             "ticks": ""
            },
            "colorscale": [
             [
              0,
              "#0d0887"
             ],
             [
              0.1111111111111111,
              "#46039f"
             ],
             [
              0.2222222222222222,
              "#7201a8"
             ],
             [
              0.3333333333333333,
              "#9c179e"
             ],
             [
              0.4444444444444444,
              "#bd3786"
             ],
             [
              0.5555555555555556,
              "#d8576b"
             ],
             [
              0.6666666666666666,
              "#ed7953"
             ],
             [
              0.7777777777777778,
              "#fb9f3a"
             ],
             [
              0.8888888888888888,
              "#fdca26"
             ],
             [
              1,
              "#f0f921"
             ]
            ],
            "type": "heatmapgl"
           }
          ],
          "histogram": [
           {
            "marker": {
             "pattern": {
              "fillmode": "overlay",
              "size": 10,
              "solidity": 0.2
             }
            },
            "type": "histogram"
           }
          ],
          "histogram2d": [
           {
            "colorbar": {
             "outlinewidth": 0,
             "ticks": ""
            },
            "colorscale": [
             [
              0,
              "#0d0887"
             ],
             [
              0.1111111111111111,
              "#46039f"
             ],
             [
              0.2222222222222222,
              "#7201a8"
             ],
             [
              0.3333333333333333,
              "#9c179e"
             ],
             [
              0.4444444444444444,
              "#bd3786"
             ],
             [
              0.5555555555555556,
              "#d8576b"
             ],
             [
              0.6666666666666666,
              "#ed7953"
             ],
             [
              0.7777777777777778,
              "#fb9f3a"
             ],
             [
              0.8888888888888888,
              "#fdca26"
             ],
             [
              1,
              "#f0f921"
             ]
            ],
            "type": "histogram2d"
           }
          ],
          "histogram2dcontour": [
           {
            "colorbar": {
             "outlinewidth": 0,
             "ticks": ""
            },
            "colorscale": [
             [
              0,
              "#0d0887"
             ],
             [
              0.1111111111111111,
              "#46039f"
             ],
             [
              0.2222222222222222,
              "#7201a8"
             ],
             [
              0.3333333333333333,
              "#9c179e"
             ],
             [
              0.4444444444444444,
              "#bd3786"
             ],
             [
              0.5555555555555556,
              "#d8576b"
             ],
             [
              0.6666666666666666,
              "#ed7953"
             ],
             [
              0.7777777777777778,
              "#fb9f3a"
             ],
             [
              0.8888888888888888,
              "#fdca26"
             ],
             [
              1,
              "#f0f921"
             ]
            ],
            "type": "histogram2dcontour"
           }
          ],
          "mesh3d": [
           {
            "colorbar": {
             "outlinewidth": 0,
             "ticks": ""
            },
            "type": "mesh3d"
           }
          ],
          "parcoords": [
           {
            "line": {
             "colorbar": {
              "outlinewidth": 0,
              "ticks": ""
             }
            },
            "type": "parcoords"
           }
          ],
          "pie": [
           {
            "automargin": true,
            "type": "pie"
           }
          ],
          "scatter": [
           {
            "fillpattern": {
             "fillmode": "overlay",
             "size": 10,
             "solidity": 0.2
            },
            "type": "scatter"
           }
          ],
          "scatter3d": [
           {
            "line": {
             "colorbar": {
              "outlinewidth": 0,
              "ticks": ""
             }
            },
            "marker": {
             "colorbar": {
              "outlinewidth": 0,
              "ticks": ""
             }
            },
            "type": "scatter3d"
           }
          ],
          "scattercarpet": [
           {
            "marker": {
             "colorbar": {
              "outlinewidth": 0,
              "ticks": ""
             }
            },
            "type": "scattercarpet"
           }
          ],
          "scattergeo": [
           {
            "marker": {
             "colorbar": {
              "outlinewidth": 0,
              "ticks": ""
             }
            },
            "type": "scattergeo"
           }
          ],
          "scattergl": [
           {
            "marker": {
             "colorbar": {
              "outlinewidth": 0,
              "ticks": ""
             }
            },
            "type": "scattergl"
           }
          ],
          "scattermapbox": [
           {
            "marker": {
             "colorbar": {
              "outlinewidth": 0,
              "ticks": ""
             }
            },
            "type": "scattermapbox"
           }
          ],
          "scatterpolar": [
           {
            "marker": {
             "colorbar": {
              "outlinewidth": 0,
              "ticks": ""
             }
            },
            "type": "scatterpolar"
           }
          ],
          "scatterpolargl": [
           {
            "marker": {
             "colorbar": {
              "outlinewidth": 0,
              "ticks": ""
             }
            },
            "type": "scatterpolargl"
           }
          ],
          "scatterternary": [
           {
            "marker": {
             "colorbar": {
              "outlinewidth": 0,
              "ticks": ""
             }
            },
            "type": "scatterternary"
           }
          ],
          "surface": [
           {
            "colorbar": {
             "outlinewidth": 0,
             "ticks": ""
            },
            "colorscale": [
             [
              0,
              "#0d0887"
             ],
             [
              0.1111111111111111,
              "#46039f"
             ],
             [
              0.2222222222222222,
              "#7201a8"
             ],
             [
              0.3333333333333333,
              "#9c179e"
             ],
             [
              0.4444444444444444,
              "#bd3786"
             ],
             [
              0.5555555555555556,
              "#d8576b"
             ],
             [
              0.6666666666666666,
              "#ed7953"
             ],
             [
              0.7777777777777778,
              "#fb9f3a"
             ],
             [
              0.8888888888888888,
              "#fdca26"
             ],
             [
              1,
              "#f0f921"
             ]
            ],
            "type": "surface"
           }
          ],
          "table": [
           {
            "cells": {
             "fill": {
              "color": "#EBF0F8"
             },
             "line": {
              "color": "white"
             }
            },
            "header": {
             "fill": {
              "color": "#C8D4E3"
             },
             "line": {
              "color": "white"
             }
            },
            "type": "table"
           }
          ]
         },
         "layout": {
          "annotationdefaults": {
           "arrowcolor": "#2a3f5f",
           "arrowhead": 0,
           "arrowwidth": 1
          },
          "autotypenumbers": "strict",
          "coloraxis": {
           "colorbar": {
            "outlinewidth": 0,
            "ticks": ""
           }
          },
          "colorscale": {
           "diverging": [
            [
             0,
             "#8e0152"
            ],
            [
             0.1,
             "#c51b7d"
            ],
            [
             0.2,
             "#de77ae"
            ],
            [
             0.3,
             "#f1b6da"
            ],
            [
             0.4,
             "#fde0ef"
            ],
            [
             0.5,
             "#f7f7f7"
            ],
            [
             0.6,
             "#e6f5d0"
            ],
            [
             0.7,
             "#b8e186"
            ],
            [
             0.8,
             "#7fbc41"
            ],
            [
             0.9,
             "#4d9221"
            ],
            [
             1,
             "#276419"
            ]
           ],
           "sequential": [
            [
             0,
             "#0d0887"
            ],
            [
             0.1111111111111111,
             "#46039f"
            ],
            [
             0.2222222222222222,
             "#7201a8"
            ],
            [
             0.3333333333333333,
             "#9c179e"
            ],
            [
             0.4444444444444444,
             "#bd3786"
            ],
            [
             0.5555555555555556,
             "#d8576b"
            ],
            [
             0.6666666666666666,
             "#ed7953"
            ],
            [
             0.7777777777777778,
             "#fb9f3a"
            ],
            [
             0.8888888888888888,
             "#fdca26"
            ],
            [
             1,
             "#f0f921"
            ]
           ],
           "sequentialminus": [
            [
             0,
             "#0d0887"
            ],
            [
             0.1111111111111111,
             "#46039f"
            ],
            [
             0.2222222222222222,
             "#7201a8"
            ],
            [
             0.3333333333333333,
             "#9c179e"
            ],
            [
             0.4444444444444444,
             "#bd3786"
            ],
            [
             0.5555555555555556,
             "#d8576b"
            ],
            [
             0.6666666666666666,
             "#ed7953"
            ],
            [
             0.7777777777777778,
             "#fb9f3a"
            ],
            [
             0.8888888888888888,
             "#fdca26"
            ],
            [
             1,
             "#f0f921"
            ]
           ]
          },
          "colorway": [
           "#636efa",
           "#EF553B",
           "#00cc96",
           "#ab63fa",
           "#FFA15A",
           "#19d3f3",
           "#FF6692",
           "#B6E880",
           "#FF97FF",
           "#FECB52"
          ],
          "font": {
           "color": "#2a3f5f"
          },
          "geo": {
           "bgcolor": "white",
           "lakecolor": "white",
           "landcolor": "#E5ECF6",
           "showlakes": true,
           "showland": true,
           "subunitcolor": "white"
          },
          "hoverlabel": {
           "align": "left"
          },
          "hovermode": "closest",
          "mapbox": {
           "style": "light"
          },
          "paper_bgcolor": "white",
          "plot_bgcolor": "#E5ECF6",
          "polar": {
           "angularaxis": {
            "gridcolor": "white",
            "linecolor": "white",
            "ticks": ""
           },
           "bgcolor": "#E5ECF6",
           "radialaxis": {
            "gridcolor": "white",
            "linecolor": "white",
            "ticks": ""
           }
          },
          "scene": {
           "xaxis": {
            "backgroundcolor": "#E5ECF6",
            "gridcolor": "white",
            "gridwidth": 2,
            "linecolor": "white",
            "showbackground": true,
            "ticks": "",
            "zerolinecolor": "white"
           },
           "yaxis": {
            "backgroundcolor": "#E5ECF6",
            "gridcolor": "white",
            "gridwidth": 2,
            "linecolor": "white",
            "showbackground": true,
            "ticks": "",
            "zerolinecolor": "white"
           },
           "zaxis": {
            "backgroundcolor": "#E5ECF6",
            "gridcolor": "white",
            "gridwidth": 2,
            "linecolor": "white",
            "showbackground": true,
            "ticks": "",
            "zerolinecolor": "white"
           }
          },
          "shapedefaults": {
           "line": {
            "color": "#2a3f5f"
           }
          },
          "ternary": {
           "aaxis": {
            "gridcolor": "white",
            "linecolor": "white",
            "ticks": ""
           },
           "baxis": {
            "gridcolor": "white",
            "linecolor": "white",
            "ticks": ""
           },
           "bgcolor": "#E5ECF6",
           "caxis": {
            "gridcolor": "white",
            "linecolor": "white",
            "ticks": ""
           }
          },
          "title": {
           "x": 0.05
          },
          "xaxis": {
           "automargin": true,
           "gridcolor": "white",
           "linecolor": "white",
           "ticks": "",
           "title": {
            "standoff": 15
           },
           "zerolinecolor": "white",
           "zerolinewidth": 2
          },
          "yaxis": {
           "automargin": true,
           "gridcolor": "white",
           "linecolor": "white",
           "ticks": "",
           "title": {
            "standoff": 15
           },
           "zerolinecolor": "white",
           "zerolinewidth": 2
          }
         }
        }
       }
      }
     },
     "metadata": {},
     "output_type": "display_data"
    }
   ],
   "source": [
    "import plotly.express as px\n",
    "fig = px.scatter_geo(waveHeight,lat=\"lat\",lon='lon',color='cas',\n",
    "                     hover_name=\"district\", size=\"cas\",\n",
    "                     size_max = 30,\n",
    "                     scope = 'africa',\n",
    "                     projection=\"natural earth\")\n",
    "fig.show()"
   ]
  }
 ],
 "metadata": {
  "kernelspec": {
   "display_name": "statistic-homework",
   "language": "python",
   "name": "python3"
  },
  "language_info": {
   "codemirror_mode": {
    "name": "ipython",
    "version": 3
   },
   "file_extension": ".py",
   "mimetype": "text/x-python",
   "name": "python",
   "nbconvert_exporter": "python",
   "pygments_lexer": "ipython3",
   "version": "3.8.15 (default, Nov 24 2022, 09:04:07) \n[Clang 14.0.6 ]"
  },
  "orig_nbformat": 4,
  "vscode": {
   "interpreter": {
    "hash": "eb3f9fd7de4274dcba1b84b19af4c7b8a5fe182d0e1fdb3e89e07913280e0155"
   }
  }
 },
 "nbformat": 4,
 "nbformat_minor": 2
}
